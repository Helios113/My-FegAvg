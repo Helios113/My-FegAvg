{
 "cells": [
  {
   "cell_type": "code",
   "execution_count": 1,
   "metadata": {},
   "outputs": [],
   "source": [
    "import numpy as np\n",
    "import pandas as pd\n",
    "from pathlib import Path\n",
    "import time\n",
    "\n",
    "# Link to data to be extracted to path pointed by dir\n",
    "# https://archive.ics.uci.edu/ml/datasets/mhealth+dataset"
   ]
  },
  {
   "cell_type": "markdown",
   "metadata": {},
   "source": [
    "### Load all .log files"
   ]
  },
  {
   "cell_type": "code",
   "execution_count": 2,
   "metadata": {},
   "outputs": [],
   "source": [
    "dir = Path(\"raw_data\")\n",
    "data_ext=\".log\"\n",
    "\n",
    "t1s = time.time();\n",
    "li = None\n",
    "# Get all files in the data directory with\n",
    "# appropriate extension\n",
    "for file in dir.glob('**/*'+data_ext):\n",
    "    # read each file\n",
    "    data = pd.read_csv(file, delimiter='\\t', header=None).values\n",
    "    # and create a big list in memory\n",
    "    if li is None:\n",
    "        li = data\n",
    "    else:\n",
    "        li = np.vstack((li,data))\n",
    "\n",
    "# separate data from labels\n",
    "labels = li[:, 23].astype(int)\n",
    "\n",
    "# eliminate null data\n",
    "data = li[labels!=0, :23]\n",
    "labels = labels[labels!=0]\n",
    "\n",
    "t1e = time.time();"
   ]
  },
  {
   "cell_type": "markdown",
   "metadata": {},
   "source": [
    "### Bagging strategy"
   ]
  },
  {
   "cell_type": "code",
   "execution_count": 5,
   "metadata": {},
   "outputs": [
    {
     "name": "stdout",
     "output_type": "stream",
     "text": [
      "Working:  99.98% /\n",
      "\n"
     ]
    }
   ],
   "source": [
    "\n",
    "# Define the window size and the stride\n",
    "# Window size\n",
    "WINDOW_SIZE = 10\n",
    "# Stride\n",
    "STRIDE = 100\n",
    "t2s=time.time();\n",
    "windows = None\n",
    "window_labels = None\n",
    "spinning_cursor = '|/-\\\\'\n",
    "k=0\n",
    "# iterate through windows\n",
    "for i in range(0, data.shape[0]-WINDOW_SIZE, STRIDE):\n",
    "\n",
    "    # logger\n",
    "    print(\"\",end='\\r')\n",
    "    print(r'Working: {per:6.2f}%'.format(per=100*(i+1)/(data.shape[0]-WINDOW_SIZE)),r'{cur}'.format(cur=spinning_cursor[int(t2s-time.time())%4]), end='')\n",
    "\n",
    "    # Data stacking\n",
    "    data_slice = data[i:i+WINDOW_SIZE].flatten()\n",
    "    if np.isnan(data_slice).any():\n",
    "        continue\n",
    "    # # Data normalisation\n",
    "    # data_slice = ((data_slice-data_slice.min(axis=0))/(data_slice.max(axis=0) - data_slice.min(axis=0))).flatten()\n",
    "    # if np.isnan(data_slice).any():\n",
    "    #     continue\n",
    "\n",
    "    if windows is None:\n",
    "        windows = data_slice\n",
    "    else:\n",
    "        windows = np.vstack((windows,data_slice))\n",
    "    # print(windows.shape)\n",
    "    # Label stacking\n",
    "    l = np.zeros(12)\n",
    "    for j in labels[i:i+WINDOW_SIZE]:\n",
    "        l[j-1]+=1\n",
    "    if window_labels is None:\n",
    "        window_labels = l.argmax()\n",
    "    else:\n",
    "        window_labels = np.vstack((window_labels,l.argmax()))\n",
    "    # print(window_labels.shape)\n",
    "\n",
    "handled_data = np.hstack((windows,window_labels))\n",
    "if np.isnan(handled_data).any():\n",
    "    print(\"Hello\")\n",
    "print(\"\\n\")\n",
    "t2e = time.time();"
   ]
  },
  {
   "cell_type": "markdown",
   "metadata": {},
   "source": [
    "### Save data"
   ]
  },
  {
   "cell_type": "code",
   "execution_count": 6,
   "metadata": {},
   "outputs": [],
   "source": [
    "dir = Path(\"data\")\n",
    "np.savetxt(dir/\"data_all.csv\", handled_data, delimiter=\",\")"
   ]
  },
  {
   "cell_type": "code",
   "execution_count": null,
   "metadata": {},
   "outputs": [],
   "source": [
    "handled_data.shape"
   ]
  }
 ],
 "metadata": {
  "kernelspec": {
   "display_name": "Python 3.10.5 ('pytorch')",
   "language": "python",
   "name": "python3"
  },
  "language_info": {
   "codemirror_mode": {
    "name": "ipython",
    "version": 3
   },
   "file_extension": ".py",
   "mimetype": "text/x-python",
   "name": "python",
   "nbconvert_exporter": "python",
   "pygments_lexer": "ipython3",
   "version": "3.10.5"
  },
  "orig_nbformat": 4,
  "vscode": {
   "interpreter": {
    "hash": "e5ea2ed259c2b90ed99a747e84043e0f5af35635ee5482f3cd465e671e6563a2"
   }
  }
 },
 "nbformat": 4,
 "nbformat_minor": 2
}
